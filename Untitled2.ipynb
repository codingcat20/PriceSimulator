{
  "metadata": {
    "toc-showcode": false,
    "toc-showmarkdowntxt": true,
    "toc-autonumbering": false,
    "language_info": {
      "codemirror_mode": {
        "name": "python",
        "version": 3
      },
      "file_extension": ".py",
      "mimetype": "text/x-python",
      "name": "python",
      "nbconvert_exporter": "python",
      "pygments_lexer": "ipython3",
      "version": "3.8"
    },
    "kernelspec": {
      "name": "python",
      "display_name": "Python (Pyodide)",
      "language": "python"
    }
  },
  "nbformat_minor": 4,
  "nbformat": 4,
  "cells": [
    {
      "cell_type": "code",
      "source": "\"\"\"\nThis module was made to help with simulating\nthe price of an item/stock as it changes.\n\nCreated by codingcat20\nLicensed under MIT\n\"\"\"\n#UNFINISHED\nclass tradable_thing():\n    def __init__(self, ttype, current_price, current_owner, current_value):\n        self.ttype = ttype\n        self.curpri = current_price\n        self.curow = current_owner\n        self.curval = current_value\n        self.pibof = self.curpri * 5\n    @classmethod\n    def update(self):\n        self.pibof = self.curpri * 5\n    def trade(self, selling_price, person_traded_to, new_value):\n        self.curpri = selling_price\n        self.curval = new_value\n        self.curow = person_traded_to\n        self.update()\n    def __str__(self):\n        raise TypeError(\"You may not print instances of class.\")",
      "metadata": {
        "trusted": true
      },
      "execution_count": 17,
      "outputs": [
        {
          "ename": "<class 'TypeError'>",
          "evalue": "You may not print instances of class.",
          "traceback": [
            "\u001b[0;31m---------------------------------------------------------------------------\u001b[0m",
            "\u001b[0;31mTypeError\u001b[0m                                 Traceback (most recent call last)",
            "Cell \u001b[0;32mIn[17], line 19\u001b[0m\n\u001b[1;32m     17\u001b[0m         \u001b[38;5;28;01mraise\u001b[39;00m \u001b[38;5;167;01mTypeError\u001b[39;00m(\u001b[38;5;124m\"\u001b[39m\u001b[38;5;124mYou may not print instances of class.\u001b[39m\u001b[38;5;124m\"\u001b[39m)\n\u001b[1;32m     18\u001b[0m item1 \u001b[38;5;241m=\u001b[39m tradable_thing(\u001b[38;5;124m\"\u001b[39m\u001b[38;5;124mpuzzle\u001b[39m\u001b[38;5;124m\"\u001b[39m, \u001b[38;5;241m20\u001b[39m, \u001b[38;5;124m\"\u001b[39m\u001b[38;5;124mAnna\u001b[39m\u001b[38;5;124m\"\u001b[39m, \u001b[38;5;241m10\u001b[39m)\n\u001b[0;32m---> 19\u001b[0m \u001b[38;5;28;43mprint\u001b[39;49m\u001b[43m(\u001b[49m\u001b[43mitem1\u001b[49m\u001b[43m)\u001b[49m\n",
            "Cell \u001b[0;32mIn[17], line 17\u001b[0m, in \u001b[0;36mtradable_thing.__str__\u001b[0;34m(self)\u001b[0m\n\u001b[1;32m     16\u001b[0m \u001b[38;5;28;01mdef\u001b[39;00m \u001b[38;5;21m__str__\u001b[39m(\u001b[38;5;28mself\u001b[39m):\n\u001b[0;32m---> 17\u001b[0m     \u001b[38;5;28;01mraise\u001b[39;00m \u001b[38;5;167;01mTypeError\u001b[39;00m(\u001b[38;5;124m\"\u001b[39m\u001b[38;5;124mYou may not print instances of class.\u001b[39m\u001b[38;5;124m\"\u001b[39m)\n",
            "\u001b[0;31mTypeError\u001b[0m: You may not print instances of class."
          ],
          "output_type": "error"
        }
      ]
    },
    {
      "cell_type": "code",
      "source": "",
      "metadata": {},
      "execution_count": null,
      "outputs": []
    }
  ]
}